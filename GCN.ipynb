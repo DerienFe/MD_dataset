{
 "cells": [
  {
   "cell_type": "code",
   "execution_count": 1,
   "metadata": {},
   "outputs": [],
   "source": [
    "import os\n",
    "import math\n",
    "import numpy as np\n",
    "import matplotlib.pyplot as plt\n",
    "import time\n",
    "\n",
    "import torch\n",
    "import torch.nn as nn\n",
    "import torch.nn.functional as F\n",
    "import torch.utils.data as Data\n",
    "#from torch import device as device_\n",
    "\n",
    "\n",
    "import scipy.sparse as sp\n",
    "from scipy import stats\n",
    "\n",
    "from sklearn.model_selection import KFold\n",
    "from sklearn import preprocessing, metrics\n",
    "\n",
    "from models import GCN\n",
    "#from utils import load_data\n"
   ]
  },
  {
   "cell_type": "code",
   "execution_count": 2,
   "metadata": {},
   "outputs": [],
   "source": [
    "def train(epochs, patient, PATH, loader, earlystopping=True):\n",
    "    start = time.time()\n",
    "    hist_train_loss = []\n",
    "    hist_valid_loss = []\n",
    "    best_loss_valid = 1e10\n",
    "    best_t=0\n",
    "    for t in range(epochs):\n",
    "        print(\"starting epoch: %s\" %t)\n",
    "        for step, (batch_x, batch_adj, batch_y) in enumerate(loader):\n",
    "            print('in this batch step: %s' %step)\n",
    "            prediction = GCN_model(batch_x, batch_adj)\n",
    "            #print(prediction, batch_y)\n",
    "            loss = loss_func(prediction, batch_y.float())\n",
    "\n",
    "            optimizer.zero_grad()\n",
    "            loss.backward()\n",
    "            optimizer.step()\n",
    "        prediction_train = GCN_model(X_train, adj_train)\n",
    "        print(\"predictions_train is: %s\" % (str(prediction_train.shape)))\n",
    "        print(\"label is: %s\" % str((y_train.shape)))\n",
    "        loss_train = loss_func(prediction_train, y_train.float())\n",
    "        prediction_valid = GCN_model(X_test, adj_test)\n",
    "        loss_valid = loss_func(prediction_valid, y_test.float())\n",
    "        hist_train_loss.append(loss_train.data.cpu().numpy())\n",
    "        hist_valid_loss.append(loss_valid.data.cpu().numpy())\n",
    "        print('loss: ', loss_train.data.cpu().numpy(), 'valid_loss:', loss_valid.data.cpu().numpy())\n",
    "        print(time.time() - start)\n",
    "\n",
    "        if earlystopping:\n",
    "            if best_loss_valid>loss_valid:\n",
    "               best_loss_valid=loss_valid\n",
    "               best_t=t\n",
    "               torch.save(GCN_model.state_dict(),PATH)\n",
    "            if t-best_t>patient:\n",
    "                break\n",
    "\n",
    "    print(time.time() - start)\n"
   ]
  },
  {
   "cell_type": "code",
   "execution_count": 3,
   "metadata": {},
   "outputs": [],
   "source": [
    "def test(model):\n",
    "\n",
    "    model.eval()\n",
    "    prediction=model(X_test, adj_test)\n",
    "    loss_test = loss_func(prediction,y_test.float())\n",
    "    sp_cor=stats.spearmanr(prediction.data.cpu().numpy(),y_test.data.cpu().numpy())[0]\n",
    "    rsq=metrics.r2_score(y_test.data.cpu().numpy(),prediction.data.cpu().numpy())\n",
    "    print(\"test set results:\",\n",
    "          \"loss= \",loss_test.data.cpu().numpy(),\n",
    "          \"spearman correlation=\", sp_cor,\n",
    "          \"r squared=\", rsq)\n",
    "    return sp_cor,rsq\n"
   ]
  },
  {
   "cell_type": "code",
   "execution_count": 4,
   "metadata": {},
   "outputs": [
    {
     "name": "stdout",
     "output_type": "stream",
     "text": [
      "(1000,)\n"
     ]
    },
    {
     "data": {
      "image/png": "[encoded data removed]",
      "text/plain": [
       "<Figure size 432x288 with 1 Axes>"
      ]
     },
     "metadata": {
      "needs_background": "light"
     },
     "output_type": "display_data"
    }
   ],
   "source": [
    "couplings = np.load(\"couplings.npy\")\n",
    "print(couplings.shape)\n",
    "plt.hist(couplings, bins = 20)\n",
    "plt.show()"
   ]
  },
  {
   "cell_type": "code",
   "execution_count": 5,
   "metadata": {},
   "outputs": [
    {
     "ename": "FileNotFoundError",
     "evalue": "[Errno 2] No such file or directory: 'features_catcoor.npy'",
     "output_type": "error",
     "traceback": [
      "\u001b[1;31m---------------------------------------------------------------------------\u001b[0m",
      "\u001b[1;31mFileNotFoundError\u001b[0m                         Traceback (most recent call last)",
      "\u001b[1;32m<ipython-input-5-a051f327f385>\u001b[0m in \u001b[0;36m<module>\u001b[1;34m\u001b[0m\n\u001b[0;32m      8\u001b[0m \u001b[0mdevice\u001b[0m \u001b[1;33m=\u001b[0m \u001b[0mtorch\u001b[0m\u001b[1;33m.\u001b[0m\u001b[0mdevice\u001b[0m\u001b[1;33m(\u001b[0m\u001b[1;34m\"cuda:0\"\u001b[0m \u001b[1;32mif\u001b[0m \u001b[0mtorch\u001b[0m\u001b[1;33m.\u001b[0m\u001b[0mcuda\u001b[0m\u001b[1;33m.\u001b[0m\u001b[0mis_available\u001b[0m\u001b[1;33m(\u001b[0m\u001b[1;33m)\u001b[0m \u001b[1;32melse\u001b[0m \u001b[1;34m\"cpu\"\u001b[0m\u001b[1;33m)\u001b[0m\u001b[1;33m\u001b[0m\u001b[1;33m\u001b[0m\u001b[0m\n\u001b[0;32m      9\u001b[0m \u001b[1;33m\u001b[0m\u001b[0m\n\u001b[1;32m---> 10\u001b[1;33m \u001b[0mfeatures\u001b[0m \u001b[1;33m=\u001b[0m \u001b[0mnp\u001b[0m\u001b[1;33m.\u001b[0m\u001b[0mload\u001b[0m\u001b[1;33m(\u001b[0m\u001b[1;34m\"features_catcoor.npy\"\u001b[0m\u001b[1;33m)\u001b[0m\u001b[1;33m\u001b[0m\u001b[1;33m\u001b[0m\u001b[0m\n\u001b[0m\u001b[0;32m     11\u001b[0m \u001b[0madj\u001b[0m \u001b[1;33m=\u001b[0m \u001b[0mnp\u001b[0m\u001b[1;33m.\u001b[0m\u001b[0mload\u001b[0m\u001b[1;33m(\u001b[0m\u001b[1;34m\"adj.npy\"\u001b[0m\u001b[1;33m)\u001b[0m\u001b[1;33m\u001b[0m\u001b[1;33m\u001b[0m\u001b[0m\n\u001b[0;32m     12\u001b[0m \u001b[0mcouplings\u001b[0m \u001b[1;33m=\u001b[0m \u001b[0mnp\u001b[0m\u001b[1;33m.\u001b[0m\u001b[0mload\u001b[0m\u001b[1;33m(\u001b[0m\u001b[1;34m\"couplings.npy\"\u001b[0m\u001b[1;33m)\u001b[0m\u001b[1;33m\u001b[0m\u001b[1;33m\u001b[0m\u001b[0m\n",
      "\u001b[1;32mC:\\ProgramData\\Anaconda3\\lib\\site-packages\\numpy\\lib\\npyio.py\u001b[0m in \u001b[0;36mload\u001b[1;34m(file, mmap_mode, allow_pickle, fix_imports, encoding)\u001b[0m\n\u001b[0;32m    426\u001b[0m         \u001b[0mown_fid\u001b[0m \u001b[1;33m=\u001b[0m \u001b[1;32mFalse\u001b[0m\u001b[1;33m\u001b[0m\u001b[1;33m\u001b[0m\u001b[0m\n\u001b[0;32m    427\u001b[0m     \u001b[1;32melse\u001b[0m\u001b[1;33m:\u001b[0m\u001b[1;33m\u001b[0m\u001b[1;33m\u001b[0m\u001b[0m\n\u001b[1;32m--> 428\u001b[1;33m         \u001b[0mfid\u001b[0m \u001b[1;33m=\u001b[0m \u001b[0mopen\u001b[0m\u001b[1;33m(\u001b[0m\u001b[0mos_fspath\u001b[0m\u001b[1;33m(\u001b[0m\u001b[0mfile\u001b[0m\u001b[1;33m)\u001b[0m\u001b[1;33m,\u001b[0m \u001b[1;34m\"rb\"\u001b[0m\u001b[1;33m)\u001b[0m\u001b[1;33m\u001b[0m\u001b[1;33m\u001b[0m\u001b[0m\n\u001b[0m\u001b[0;32m    429\u001b[0m         \u001b[0mown_fid\u001b[0m \u001b[1;33m=\u001b[0m \u001b[1;32mTrue\u001b[0m\u001b[1;33m\u001b[0m\u001b[1;33m\u001b[0m\u001b[0m\n\u001b[0;32m    430\u001b[0m \u001b[1;33m\u001b[0m\u001b[0m\n",
      "\u001b[1;31mFileNotFoundError\u001b[0m: [Errno 2] No such file or directory: 'features_catcoor.npy'"
     ]
    }
   ],
   "source": [
    "\"\"\"\n",
    "training set up\n",
    "\"\"\"\n",
    "\n",
    "kf = KFold(n_splits=5)\n",
    "sp_cor=[]\n",
    "rsq_score=[]\n",
    "device = torch.device(\"cuda:0\" if torch.cuda.is_available() else \"cpu\")\n",
    "\n",
    "features = np.load(\"features_catcoor.npy\")\n",
    "adj = np.load(\"adj.npy\")\n",
    "couplings = np.load(\"couplings.npy\")\n",
    "\n",
    "features = torch.tensor(features)\n",
    "adj = torch.tensor(adj)\n",
    "couplings = torch.tensor(couplings.reshape([couplings.shape[0],1]))\n",
    "\n",
    "\n",
    "if torch.cuda.is_available():\n",
    "    features=features.to(device)\n",
    "    adj=adj.to(device)\n",
    "    couplings=couplings.to(device)\n",
    "    print(\"features and labels moved to GPU\")\n",
    "    \n",
    "    \n"
   ]
  },
  {
   "cell_type": "code",
   "execution_count": null,
   "metadata": {},
   "outputs": [],
   "source": [
    "print(features.shape)"
   ]
  },
  {
   "cell_type": "code",
   "execution_count": null,
   "metadata": {
    "scrolled": true
   },
   "outputs": [],
   "source": [
    "for train_idx, test_idx in kf.split(features):\n",
    "    #print(\"%s %s\" % (train, test))\n",
    "    X_train, X_test, adj_train, adj_test, y_train, y_test = features[train_idx], features[test_idx], adj[train_idx], adj[test_idx], couplings[train_idx], couplings[test_idx]\n",
    "    print(\"Training set are:\")\n",
    "    print(X_train.shape, y_train.shape)\n",
    "    print(\"Test set are:\")\n",
    "    print(X_test.shape, y_test.shape)\n",
    "    if torch.cuda.is_available():\n",
    "        GCN_model = GCN(nfeat = 196, nhid1 = 50, nhid2 = 20, dropout = 0.1).to(device)\n",
    "        print(\"CUDA is in use\")\n",
    "    else:\n",
    "        GCN_model = GCN(nfeat = 196, nhid1 = 50, nhid2 = 20, dropout = 0.1)\n",
    "    print(\"Model set to: %s\" % (GCN))\n",
    "\n",
    "    \"\"\"check which parameter is not on gpu\"\"\"\n",
    "    for name, param in GCN_model.named_parameters():\n",
    "        if param.device.type != 'cuda':\n",
    "            print('param {}, not on GPU'.format(name))\n",
    "    '''train model'''\n",
    "\n",
    "    torch_dataset = Data.TensorDataset(X_train, adj_train, y_train)\n",
    "    loader = Data.DataLoader(\n",
    "        dataset=torch_dataset,  # torch TensorDataset format\n",
    "        batch_size=10,  # mini batch size\n",
    "        shuffle=True,\n",
    "    )\n",
    "\n",
    "    optimizer = torch.optim.Adam(GCN_model.parameters(), lr=0.03)\n",
    "    loss_func = torch.nn.MSELoss()\n",
    "    #print(loader)\n",
    "    train(150, 2, 'GCN.pth', loader)\n",
    "    sp,rsq=test(GCN_model)\n",
    "    sp_cor.append(sp)\n",
    "    rsq_score.append(rsq)\n",
    "print(sp_cor,rsq_score)"
   ]
  },
  {
   "cell_type": "code",
   "execution_count": null,
   "metadata": {},
   "outputs": [],
   "source": [
    "    \"\"\"result plot\"\"\"\n",
    "    '''\n",
    "    prediction=GCN_model(test_x,test_adj)\n",
    "    plt.plot(prediction.data.cpu().numpy(), test_y.data.cpu().numpy(),'.')\n",
    "    plt.ylabel('true values')\n",
    "    plt.xlabel('predicted values')\n",
    "\n",
    "    plt.hist(prediction.data.cpu().numpy(),bins=50,alpha=0.5,label='predicted')\n",
    "    plt.hist(test_y.data.cpu().numpy(),bins=50,alpha=0.5,label='true')\n",
    "    plt.legend(loc='upper right')\n",
    "    plt.show()\n",
    "    '''\n"
   ]
  },
  {
   "cell_type": "code",
   "execution_count": null,
   "metadata": {},
   "outputs": [],
   "source": [
    "print(\"predictions_train is: %s\" %(str(features.shape)))"
   ]
  },
  {
   "cell_type": "code",
   "execution_count": null,
   "metadata": {},
   "outputs": [],
   "source": []
  }
 ],
 "metadata": {
  "kernelspec": {
   "display_name": "Python 3",
   "language": "python",
   "name": "python3"
  },
  "language_info": {
   "codemirror_mode": {
    "name": "ipython",
    "version": 3
   },
   "file_extension": ".py",
   "mimetype": "text/x-python",
   "name": "python",
   "nbconvert_exporter": "python",
   "pygments_lexer": "ipython3",
   "version": "3.8.3"
  },
  "varInspector": {
   "cols": {
    "lenName": 16,
    "lenType": 16,
    "lenVar": 40
   },
   "kernels_config": {
    "python": {
     "delete_cmd_postfix": "",
     "delete_cmd_prefix": "del ",
     "library": "var_list.py",
     "varRefreshCmd": "print(var_dic_list())"
    },
    "r": {
     "delete_cmd_postfix": ") ",
     "delete_cmd_prefix": "rm(",
     "library": "var_list.r",
     "varRefreshCmd": "cat(var_dic_list()) "
    }
   },
   "types_to_exclude": [
    "module",
    "function",
    "builtin_function_or_method",
    "instance",
    "_Feature"
   ],
   "window_display": false
  }
 },
 "nbformat": 4,
 "nbformat_minor": 2
}
